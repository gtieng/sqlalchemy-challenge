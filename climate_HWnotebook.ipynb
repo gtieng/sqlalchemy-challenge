{
 "cells": [
  {
   "cell_type": "markdown",
   "metadata": {},
   "source": [
    "# CLIMATE HOMEWORK\n",
    "**by Gerard Tieng**"
   ]
  },
  {
   "cell_type": "markdown",
   "metadata": {},
   "source": [
    "## Pre-work"
   ]
  },
  {
   "cell_type": "code",
   "execution_count": 1,
   "metadata": {},
   "outputs": [],
   "source": [
    "# Import Data libraries\n",
    "import numpy as np\n",
    "import pandas as pd\n",
    "import datetime as dt\n",
    "\n",
    "#Import Plotting libraries\n",
    "%matplotlib inline\n",
    "from matplotlib import style\n",
    "style.use('fivethirtyeight')\n",
    "import matplotlib.pyplot as plt\n",
    "\n",
    "# Python SQL toolkit and Object Relational Mapper\n",
    "import sqlalchemy\n",
    "from sqlalchemy.ext.automap import automap_base\n",
    "from sqlalchemy.orm import Session\n",
    "from sqlalchemy import create_engine, func\n",
    "from sqlalchemy import desc, asc"
   ]
  },
  {
   "cell_type": "markdown",
   "metadata": {},
   "source": [
    "# Reflect Tables into SQLAlchemy ORM"
   ]
  },
  {
   "cell_type": "code",
   "execution_count": 2,
   "metadata": {},
   "outputs": [
    {
     "data": {
      "text/plain": [
       "['measurement', 'station']"
      ]
     },
     "execution_count": 2,
     "metadata": {},
     "output_type": "execute_result"
    }
   ],
   "source": [
    "#Create engine and connect\n",
    "engine = create_engine(\"sqlite:///Resources/hawaii.sqlite\")\n",
    "conn = engine.connect()\n",
    "\n",
    "# Define Base and reflect\n",
    "Base = automap_base()\n",
    "Base.prepare(engine, reflect=True)\n",
    "\n",
    "# We can view all of the classes that automap found\n",
    "Base.classes.keys()"
   ]
  },
  {
   "cell_type": "code",
   "execution_count": 3,
   "metadata": {},
   "outputs": [],
   "source": [
    "# Save references to each table\n",
    "Measurement = Base.classes.measurement\n",
    "Station = Base.classes.station"
   ]
  },
  {
   "cell_type": "code",
   "execution_count": 4,
   "metadata": {},
   "outputs": [],
   "source": [
    "# Create our session (link) from Python to the DB\n",
    "session = Session(engine)"
   ]
  },
  {
   "cell_type": "markdown",
   "metadata": {},
   "source": [
    "# Exploratory Climate Analysis"
   ]
  },
  {
   "cell_type": "markdown",
   "metadata": {},
   "source": [
    "**Design a query to retrieve the last 12 months of precipitation data and plot the results**"
   ]
  },
  {
   "cell_type": "code",
   "execution_count": 5,
   "metadata": {},
   "outputs": [
    {
     "name": "stdout",
     "output_type": "stream",
     "text": [
      "('2017-08-23',)\n"
     ]
    }
   ],
   "source": [
    "# Calculate the date 1 year ago from the last data point in the database\n",
    "\n",
    "enddate = session.query(Measurement.date).order_by(desc(Measurement.date)).first()\n",
    "print(enddate)"
   ]
  },
  {
   "cell_type": "code",
   "execution_count": 6,
   "metadata": {},
   "outputs": [],
   "source": [
    "# Perform a query to retrieve the data and precipitation scores\n",
    "\n",
    "lastyearsrain = session.query(Measurement.date, Measurement.prcp).filter(Measurement.date <= dt.date(2017,8,23), Measurement.date >= dt.date(2017,8,23)-dt.timedelta(days=365)).all()"
   ]
  },
  {
   "cell_type": "code",
   "execution_count": 7,
   "metadata": {},
   "outputs": [
    {
     "data": {
      "text/html": [
       "<div>\n",
       "<style scoped>\n",
       "    .dataframe tbody tr th:only-of-type {\n",
       "        vertical-align: middle;\n",
       "    }\n",
       "\n",
       "    .dataframe tbody tr th {\n",
       "        vertical-align: top;\n",
       "    }\n",
       "\n",
       "    .dataframe thead th {\n",
       "        text-align: right;\n",
       "    }\n",
       "</style>\n",
       "<table border=\"1\" class=\"dataframe\">\n",
       "  <thead>\n",
       "    <tr style=\"text-align: right;\">\n",
       "      <th></th>\n",
       "      <th>prcp</th>\n",
       "    </tr>\n",
       "    <tr>\n",
       "      <th>date</th>\n",
       "      <th></th>\n",
       "    </tr>\n",
       "  </thead>\n",
       "  <tbody>\n",
       "    <tr>\n",
       "      <td>2016-08-23</td>\n",
       "      <td>0.00</td>\n",
       "    </tr>\n",
       "    <tr>\n",
       "      <td>2016-08-23</td>\n",
       "      <td>0.02</td>\n",
       "    </tr>\n",
       "    <tr>\n",
       "      <td>2016-08-23</td>\n",
       "      <td>0.05</td>\n",
       "    </tr>\n",
       "    <tr>\n",
       "      <td>2016-08-23</td>\n",
       "      <td>0.70</td>\n",
       "    </tr>\n",
       "    <tr>\n",
       "      <td>2016-08-23</td>\n",
       "      <td>0.15</td>\n",
       "    </tr>\n",
       "  </tbody>\n",
       "</table>\n",
       "</div>"
      ],
      "text/plain": [
       "            prcp\n",
       "date            \n",
       "2016-08-23  0.00\n",
       "2016-08-23  0.02\n",
       "2016-08-23  0.05\n",
       "2016-08-23  0.70\n",
       "2016-08-23  0.15"
      ]
     },
     "execution_count": 7,
     "metadata": {},
     "output_type": "execute_result"
    }
   ],
   "source": [
    "# Save the query results as a Pandas DataFrame and set the index to the date column\n",
    "# Sort the dataframe by date\n",
    "\n",
    "df_rain = pd.DataFrame(lastyearsrain)\\\n",
    ".dropna()\\\n",
    ".sort_values(by= 'date', ascending= True)\\\n",
    ".set_index('date')\n",
    "\n",
    "df_rain.head()"
   ]
  },
  {
   "cell_type": "code",
   "execution_count": 8,
   "metadata": {},
   "outputs": [
    {
     "data": {
      "image/png": "[encoded data removed]",
      "text/plain": [
       "<Figure size 1080x720 with 1 Axes>"
      ]
     },
     "metadata": {
      "needs_background": "light"
     },
     "output_type": "display_data"
    }
   ],
   "source": [
    "# Use Pandas Plotting with Matplotlib to plot the data\n",
    "\n",
    "plt.figure(figsize=(15,10))\n",
    "plt.bar(df_rain.index, df_rain['prcp'], width=5, label='Precipitation')\n",
    "plt.xlabel(\"Date\", fontsize=30)\n",
    "plt.tick_params(labelsize=30, labelbottom=False)\n",
    "plt.legend(loc='upper center', fontsize=30)\n",
    "plt.savefig('prcp_bar.png')\n",
    "plt.show()"
   ]
  },
  {
   "cell_type": "code",
   "execution_count": 9,
   "metadata": {},
   "outputs": [
    {
     "data": {
      "text/html": [
       "<div>\n",
       "<style scoped>\n",
       "    .dataframe tbody tr th:only-of-type {\n",
       "        vertical-align: middle;\n",
       "    }\n",
       "\n",
       "    .dataframe tbody tr th {\n",
       "        vertical-align: top;\n",
       "    }\n",
       "\n",
       "    .dataframe thead th {\n",
       "        text-align: right;\n",
       "    }\n",
       "</style>\n",
       "<table border=\"1\" class=\"dataframe\">\n",
       "  <thead>\n",
       "    <tr style=\"text-align: right;\">\n",
       "      <th></th>\n",
       "      <th>prcp</th>\n",
       "    </tr>\n",
       "  </thead>\n",
       "  <tbody>\n",
       "    <tr>\n",
       "      <td>count</td>\n",
       "      <td>2021.000000</td>\n",
       "    </tr>\n",
       "    <tr>\n",
       "      <td>mean</td>\n",
       "      <td>0.177279</td>\n",
       "    </tr>\n",
       "    <tr>\n",
       "      <td>std</td>\n",
       "      <td>0.461190</td>\n",
       "    </tr>\n",
       "    <tr>\n",
       "      <td>min</td>\n",
       "      <td>0.000000</td>\n",
       "    </tr>\n",
       "    <tr>\n",
       "      <td>25%</td>\n",
       "      <td>0.000000</td>\n",
       "    </tr>\n",
       "    <tr>\n",
       "      <td>50%</td>\n",
       "      <td>0.020000</td>\n",
       "    </tr>\n",
       "    <tr>\n",
       "      <td>75%</td>\n",
       "      <td>0.130000</td>\n",
       "    </tr>\n",
       "    <tr>\n",
       "      <td>max</td>\n",
       "      <td>6.700000</td>\n",
       "    </tr>\n",
       "  </tbody>\n",
       "</table>\n",
       "</div>"
      ],
      "text/plain": [
       "              prcp\n",
       "count  2021.000000\n",
       "mean      0.177279\n",
       "std       0.461190\n",
       "min       0.000000\n",
       "25%       0.000000\n",
       "50%       0.020000\n",
       "75%       0.130000\n",
       "max       6.700000"
      ]
     },
     "execution_count": 9,
     "metadata": {},
     "output_type": "execute_result"
    }
   ],
   "source": [
    "# Use Pandas to calcualte the summary statistics for the precipitation data\n",
    "\n",
    "df_rain.describe()"
   ]
  },
  {
   "cell_type": "code",
   "execution_count": 10,
   "metadata": {},
   "outputs": [
    {
     "name": "stdout",
     "output_type": "stream",
     "text": [
      "(1, ('USC00519397',))\n",
      "(2, ('USC00513117',))\n",
      "(3, ('USC00514830',))\n",
      "(4, ('USC00517948',))\n",
      "(5, ('USC00518838',))\n",
      "(6, ('USC00519523',))\n",
      "(7, ('USC00519281',))\n",
      "(8, ('USC00511918',))\n",
      "(9, ('USC00516128',))\n"
     ]
    }
   ],
   "source": [
    "# Design a query to show how many stations are available in this dataset?\n",
    "\n",
    "station_count = session.query(Station.station).all()\n",
    "\n",
    "for stations in enumerate(station_count, 1):\n",
    "    print(stations)"
   ]
  },
  {
   "cell_type": "code",
   "execution_count": 11,
   "metadata": {},
   "outputs": [
    {
     "name": "stdout",
     "output_type": "stream",
     "text": [
      "('USC00519281', 2772)\n",
      "('USC00519397', 2724)\n",
      "('USC00513117', 2709)\n",
      "('USC00519523', 2669)\n",
      "('USC00516128', 2612)\n",
      "('USC00514830', 2202)\n",
      "('USC00511918', 1979)\n",
      "('USC00517948', 1372)\n",
      "('USC00518838', 511)\n"
     ]
    }
   ],
   "source": [
    "# What are the most active stations? (i.e. what stations have the most rows)?\n",
    "# List the stations and the counts in descending order.\n",
    "\n",
    "active_station = session.query(Measurement.station, func.count(Measurement.station)).group_by(Measurement.station).order_by(desc(func.count(Measurement.station))).all()\n",
    "\n",
    "for i in active_station:\n",
    "    print(i)"
   ]
  },
  {
   "cell_type": "code",
   "execution_count": 12,
   "metadata": {},
   "outputs": [
    {
     "name": "stdout",
     "output_type": "stream",
     "text": [
      "Hightemp = [('USC00519281', 85.0)]\n",
      "Lowtemp = [('USC00519281', 54.0)]\n",
      "Avgtemp = [('USC00519281', 71.66378066378067)]\n"
     ]
    }
   ],
   "source": [
    "# Using the station id from the previous query, calculate the lowest temperature recorded, \n",
    "# highest temperature recorded, and average temperature most active station?\n",
    "\n",
    "active_hitemp = session.query(Measurement.station, Measurement.tobs).filter(Measurement.station == 'USC00519281').order_by(desc(Measurement.tobs)).limit(1).all()\n",
    "active_lotemp = session.query(Measurement.station, Measurement.tobs).filter(Measurement.station == 'USC00519281').order_by(asc(Measurement.tobs)).limit(1).all()\n",
    "active_avgtemp = session.query(Measurement.station, func.avg(Measurement.tobs)).filter(Measurement.station == 'USC00519281').all()\n",
    "\n",
    "for hi in active_hitemp:\n",
    "    print(f\"Hightemp = {active_hitemp}\")\n",
    "\n",
    "for lo in active_hitemp:\n",
    "    print(f\"Lowtemp = {active_lotemp}\")\n",
    "    \n",
    "print(f'Avgtemp = {active_avgtemp}')"
   ]
  },
  {
   "cell_type": "code",
   "execution_count": 13,
   "metadata": {},
   "outputs": [
    {
     "name": "stdout",
     "output_type": "stream",
     "text": [
      "USC00519281\n",
      "2772\n"
     ]
    }
   ],
   "source": [
    "# Choose the station with the highest number of temperature observations.\n",
    "\n",
    "most_tobs = session.query(Measurement.station, func.count(Measurement.tobs)).group_by(Measurement.station).order_by(desc(func.count(Measurement.tobs))).first()\n",
    "\n",
    "for tobs in most_tobs:\n",
    "    print(tobs)"
   ]
  },
  {
   "cell_type": "code",
   "execution_count": 14,
   "metadata": {},
   "outputs": [
    {
     "name": "stdout",
     "output_type": "stream",
     "text": [
      "('2017-08-18',)\n"
     ]
    }
   ],
   "source": [
    "# Query the last 12 months of temperature observation data for this station and plot the results as a histogram\n",
    "\n",
    "tobs_enddate = session.query(Measurement.date).filter(Measurement.station == 'USC00519281').order_by(desc(Measurement.date)).first()\n",
    "print(tobs_enddate)"
   ]
  },
  {
   "cell_type": "code",
   "execution_count": 15,
   "metadata": {},
   "outputs": [],
   "source": [
    "tobs_plot = session.query(Measurement.date, Measurement.tobs).filter(Measurement.station == 'USC00519281', Measurement.date <= dt.date(2017,8,18), Measurement.date >= dt.date(2017,8,18)-dt.timedelta(days=365)).all()\n",
    "\n",
    "tobs_collect =[]\n",
    "\n",
    "for stuff in tobs_plot:\n",
    "    tobs_collect.append(stuff[1])"
   ]
  },
  {
   "cell_type": "code",
   "execution_count": 16,
   "metadata": {},
   "outputs": [
    {
     "data": {
      "image/png": "[encoded data removed]",
      "text/plain": [
       "<Figure size 432x288 with 1 Axes>"
      ]
     },
     "metadata": {
      "needs_background": "light"
     },
     "output_type": "display_data"
    }
   ],
   "source": [
    "plt.hist(tobs_collect, bins=12, label='tobs')\n",
    "plt.ylabel(\"Frequency\")\n",
    "plt.legend(loc='upper right')\n",
    "plt.savefig('tobs_histogram.png')\n",
    "plt.show()"
   ]
  },
  {
   "cell_type": "markdown",
   "metadata": {},
   "source": [
    "# Climate App"
   ]
  },
  {
   "cell_type": "code",
   "execution_count": 17,
   "metadata": {},
   "outputs": [],
   "source": [
    "# Begin Flask Climate App\n",
    "from flask import Flask, jsonify\n",
    "\n",
    "app = Flask(__name__)"
   ]
  },
  {
   "cell_type": "code",
   "execution_count": 18,
   "metadata": {},
   "outputs": [],
   "source": [
    "#routes\n",
    "\n",
    "@app.route('/')\n",
    "def home():\n",
    "    return (f\"Welcome to Gerard's Climate Site.<br/>\"\n",
    "            f\"Here are your available routes:<br/>\"\n",
    "            f\"<br/>\"\n",
    "            f'/api/v1.0/precipitation<br/>'\n",
    "            f'--returns a list of precipitation values in the last 12 month period<br/>'\n",
    "            f\"<br/>\"\n",
    "            f'/api/v1.0/stations<br/>'\n",
    "            f'-- returns a list of all stations collecting climate data<br/>'\n",
    "            f\"<br/>\"\n",
    "            f'/api/v1.0/tobs<br/>'\n",
    "            f'-- returns a list of temperature observations in the last 12 months<br/>'\n",
    "            f\"<br/>\"\n",
    "            f'/api/v1.0/start/<font color=\"red\">yyyymmdd</font><br/>'\n",
    "            f'-- returns min, max, and average temps from the given date to end of dataset.<br/>'\n",
    "            f\"<br/>\"\n",
    "            f'/api/v1.0/startend/<font color=\"red\">yyyymmdd</font>/<font color=\"blue\">yyyymmdd</font><br/>'\n",
    "            f'-- returns min, max, and average temps between start and end date.<br/>')\n",
    "            "
   ]
  },
  {
   "cell_type": "code",
   "execution_count": 19,
   "metadata": {},
   "outputs": [],
   "source": [
    "#simple returns for prcp, station, and tobs\n",
    "\n",
    "@app.route('/api/v1.0/precipitation')\n",
    "def rain():\n",
    "    lastyearsrain = session.query(Measurement.date, Measurement.prcp).filter(Measurement.date <= dt.date(2017,8,23), Measurement.date >= dt.date(2017,8,23)-dt.timedelta(days=365)).all()\n",
    "    session.close()\n",
    "    return dict(lastyearsrain)\n",
    "\n",
    "@app.route('/api/v1.0/stations')\n",
    "def stations():\n",
    "    station_count = session.query(Station.station).all()\n",
    "    session.close()\n",
    "    return dict(enumerate(station_count))\n",
    "\n",
    "@app.route('/api/v1.0/tobs')\n",
    "def tobs():\n",
    "    temp_obs = session.query(Measurement.date, Measurement.tobs).filter(Measurement.station == 'USC00519281', Measurement.date <= \"2017-08-18\", Measurement.date >= \"2016-08-18\").all()\n",
    "    session.close()\n",
    "    return dict(temp_obs)\n"
   ]
  },
  {
   "cell_type": "code",
   "execution_count": 20,
   "metadata": {},
   "outputs": [],
   "source": [
    "#routes for custom inputs\n",
    "\n",
    "@app.route('/api/v1.0/start/<start_date>')\n",
    "def onedate(start_date):\n",
    "\n",
    "    #yyyymmdd to 'yyyy-mm-dd'\n",
    "    begin = str(start_date)\n",
    "    broken= [b for b in begin]\n",
    "    broken.insert(4,'-')\n",
    "    broken.insert(7,'-')\n",
    "    glue = \"\"\n",
    "    start_date = glue.join(broken)\n",
    "\n",
    "    temp = session.query(func.min(Measurement.tobs), func.avg(Measurement.tobs), func.max(Measurement.tobs)).filter(Measurement.date >= start_date).all()\n",
    "    session.close()\n",
    "\n",
    "    test = zip(['Min', 'Avg', \"Max\"], *temp)\n",
    "    return dict([i for i in test])\n",
    "\n",
    "@app.route('/api/v1.0/startend/<s_date>/<e_date>')\n",
    "def twodates(s_date, e_date):\n",
    "\n",
    "    #yyyymmdd to 'yyyy-mm-dd'\n",
    "    twobegin = [str(s_date), str(e_date)]\n",
    "    twobroken= [b for b in twobegin]\n",
    "    s = [x for x in twobroken[0]]\n",
    "    s.insert(4,'-')\n",
    "    s.insert(7,'-')\n",
    "    e = [y for y in twobroken[1]]\n",
    "    e.insert(4,'-')\n",
    "    e.insert(7,'-')\n",
    "    glue = \"\"\n",
    "    ss_date = glue.join(s)\n",
    "    ee_date = glue.join(e)\n",
    "    \n",
    "    twotemp = session.query(func.min(Measurement.tobs), func.avg(Measurement.tobs), func.max(Measurement.tobs)).filter(Measurement.date >= ss_date, Measurement.date <= ee_date, ).all()\n",
    "    session.close()\n",
    "\n",
    "    twotest = zip(['Min', 'Avg', \"Max\"], *twotemp)\n",
    "    return dict([j for j in twotest])\n",
    "\n",
    "# Run App\n",
    "#if __name__ == \"__main__\":\n",
    "    #app.run(debug=True)"
   ]
  },
  {
   "cell_type": "code",
   "execution_count": 21,
   "metadata": {},
   "outputs": [
    {
     "data": {
      "text/plain": [
       "{'Min': 65.0, 'Avg': 71.8936170212766, 'Max': 79.0}"
      ]
     },
     "execution_count": 21,
     "metadata": {},
     "output_type": "execute_result"
    }
   ],
   "source": [
    "# Use your previous function `calc_temps` to calculate the tmin, tavg, and tmax \n",
    "# for your trip using the previous year's data for those same dates.\n",
    "\n",
    "#example: valentine's day\n",
    "\n",
    "twodates(20170214, 20170221)"
   ]
  },
  {
   "cell_type": "code",
   "execution_count": 24,
   "metadata": {},
   "outputs": [
    {
     "data": {
      "image/png": "[encoded data removed]",
      "text/plain": [
       "<Figure size 144x720 with 1 Axes>"
      ]
     },
     "metadata": {
      "needs_background": "light"
     },
     "output_type": "display_data"
    }
   ],
   "source": [
    "# Plot the results from your previous query as a bar chart. \n",
    "# Use \"Trip Avg Temp\" as your Title\n",
    "# Use the average temperature for the y value\n",
    "# Use the peak-to-peak (tmax-tmin) value as the y error bar (yerr)\n",
    "\n",
    "plt.figure(figsize=(2,10))\n",
    "plt.bar(1, 71.8936170212766)\n",
    "plt.title('Trip Avg Temp')\n",
    "plt.errorbar(1, 71.8936170212766, yerr=(79-65), color='k')\n",
    "plt.tick_params(labelbottom=False)\n",
    "plt.savefig('trip_avg_temp.png')\n",
    "plt.show()"
   ]
  },
  {
   "cell_type": "code",
   "execution_count": 25,
   "metadata": {},
   "outputs": [],
   "source": [
    "# Calculate the total amount of rainfall per weather station for your trip dates using the previous year's matching dates.\n",
    "# Sort this in descending order by precipitation amount and list the station, name, latitude, longitude, and elevation\n",
    "\n",
    "tripdata_joined = session.query\\\n",
    "(Measurement.prcp, Measurement.station, Station.name, Station.latitude, Station.longitude, Station.elevation)\\\n",
    ".filter(Measurement.station == Station.station)\\\n",
    ".group_by(Measurement.station)\\\n",
    ".order_by(desc(Measurement.prcp))"
   ]
  },
  {
   "cell_type": "code",
   "execution_count": 26,
   "metadata": {},
   "outputs": [
    {
     "name": "stdout",
     "output_type": "stream",
     "text": [
      "(0.28, 'USC00513117', 'KANEOHE 838.1, HI US', 21.4234, -157.8015, 14.6)\n",
      "(0.21, 'USC00518838', 'UPPER WAHIAWA 874.3, HI US', 21.4992, -158.0111, 306.6)\n",
      "(0.15, 'USC00519523', 'WAIMANALO EXPERIMENTAL FARM, HI US', 21.33556, -157.71139, 19.5)\n",
      "(0.15, 'USC00519281', 'WAIHEE 837.5, HI US', 21.45167, -157.84888999999998, 32.9)\n",
      "(0.14, 'USC00516128', 'MANOA LYON ARBO 785.2, HI US', 21.3331, -157.8025, 152.4)\n",
      "(0.08, 'USC00519397', 'WAIKIKI 717.2, HI US', 21.2716, -157.8168, 3.0)\n",
      "(0.05, 'USC00511918', 'HONOLULU OBSERVATORY 702.2, HI US', 21.3152, -157.9992, 0.9)\n",
      "(0.01, 'USC00514830', 'KUALOA RANCH HEADQUARTERS 886.9, HI US', 21.5213, -157.8374, 7.0)\n",
      "(None, 'USC00517948', 'PEARL CITY, HI US', 21.3934, -157.9751, 11.9)\n"
     ]
    }
   ],
   "source": [
    "for tsd in tripdata_joined:\n",
    "    print(tsd)"
   ]
  }
 ],
 "metadata": {
  "kernel_info": {
   "name": "python3"
  },
  "kernelspec": {
   "display_name": "Python 3",
   "language": "python",
   "name": "python3"
  },
  "language_info": {
   "codemirror_mode": {
    "name": "ipython",
    "version": 3
   },
   "file_extension": ".py",
   "mimetype": "text/x-python",
   "name": "python",
   "nbconvert_exporter": "python",
   "pygments_lexer": "ipython3",
   "version": "3.7.4"
  },
  "nteract": {
   "version": "0.12.3"
  },
  "varInspector": {
   "cols": {
    "lenName": 16,
    "lenType": 16,
    "lenVar": 40
   },
   "kernels_config": {
    "python": {
     "delete_cmd_postfix": "",
     "delete_cmd_prefix": "del ",
     "library": "var_list.py",
     "varRefreshCmd": "print(var_dic_list())"
    },
    "r": {
     "delete_cmd_postfix": ") ",
     "delete_cmd_prefix": "rm(",
     "library": "var_list.r",
     "varRefreshCmd": "cat(var_dic_list()) "
    }
   },
   "types_to_exclude": [
    "module",
    "function",
    "builtin_function_or_method",
    "instance",
    "_Feature"
   ],
   "window_display": false
  }
 },
 "nbformat": 4,
 "nbformat_minor": 4
}
